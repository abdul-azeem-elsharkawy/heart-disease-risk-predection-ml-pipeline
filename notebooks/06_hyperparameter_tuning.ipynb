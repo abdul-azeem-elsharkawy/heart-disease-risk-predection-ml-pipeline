{
 "cells": [
  {
   "cell_type": "markdown",
   "id": "7f343106",
   "metadata": {},
   "source": [
    "# 06 - Hyperparameter Tuning\n",
    "Use GridSearchCV / RandomizedSearchCV to optimize models and save the best estimator.\n"
   ]
  },
  {
   "cell_type": "code",
   "execution_count": 1,
   "id": "029cacc2",
   "metadata": {},
   "outputs": [],
   "source": [
    "# Change working directory\n",
    "import os\n",
    "os.chdir(r'D:\\Books and Courses\\Machine Learning\\Sprints x Microsoft Summer Camp - AI and Machine Learning\\Comprehensive Machine Learning Full Pipeline on Heart Disease UCI Dataset (Graduation Project)\\Heart_Disease_Project')"
   ]
  },
  {
   "cell_type": "code",
   "execution_count": 2,
   "id": "b2091ab1",
   "metadata": {},
   "outputs": [
    {
     "name": "stdout",
     "output_type": "stream",
     "text": [
      "RF best: {'max_depth': None, 'min_samples_split': 10, 'n_estimators': 200} 0.8072703782006109\n",
      "SVM best: {'gamma': 0.001, 'C': 8.858667904100823} 0.8158881741712024\n",
      "Saved tuned best model to models/best_model.pkl\n",
      "Saved full pipeline (preprocessing + model) to models/final_model_(full_pipeline).pkl\n"
     ]
    }
   ],
   "source": [
    "import numpy as np, joblib\n",
    "from pathlib import Path\n",
    "from sklearn.model_selection import GridSearchCV, RandomizedSearchCV\n",
    "from sklearn.ensemble import RandomForestClassifier\n",
    "from sklearn.svm import SVC\n",
    "from sklearn.pipeline import Pipeline\n",
    "\n",
    "# Load cleaned training data \n",
    "train_npz = Path('data/cleaned_train.npz')\n",
    "arr = np.load(train_npz)\n",
    "X, y = arr['X'], arr['y']\n",
    "\n",
    "# Random Forest grid search  \n",
    "rf = RandomForestClassifier(random_state=42)\n",
    "param_grid = {\n",
    "    'n_estimators': [200, 300, 500],\n",
    "    'max_depth': [None, 5, 10],\n",
    "    'min_samples_split': [2, 5, 10]\n",
    "}\n",
    "gs = GridSearchCV(rf, param_grid, cv=5, n_jobs=-1, scoring='f1')\n",
    "gs.fit(X, y)\n",
    "print('RF best:', gs.best_params_, gs.best_score_)\n",
    "\n",
    "# SVM randomized search  \n",
    "svm = SVC(probability=True, kernel='rbf', random_state=42)\n",
    "param_dist = {\n",
    "    'C': np.logspace(-2, 2, 20),\n",
    "    'gamma': np.logspace(-3, 1, 20)\n",
    "}\n",
    "rs = RandomizedSearchCV(svm, param_distributions=param_dist, n_iter=30, cv=5, n_jobs=-1, scoring='f1', random_state=42)\n",
    "rs.fit(X, y)\n",
    "print('SVM best:', rs.best_params_, rs.best_score_)\n",
    "\n",
    "# Pick the overall best model and save\n",
    "best_model = gs.best_estimator_ if gs.best_score_ >= rs.best_score_ else rs.best_estimator_\n",
    "joblib.dump(best_model, 'models/best_model.pkl')\n",
    "print('Saved tuned best model to models/best_model.pkl')\n",
    "\n",
    "# Load the saved preprocessor and combine with the best model to form a full pipeline for deployment  \n",
    "preproc_path = Path(\"models/preprocessor.pkl\")\n",
    "preprocessor = joblib.load(preproc_path)\n",
    "\n",
    "full_pipeline = Pipeline(steps=[\n",
    "    (\"preprocessor\", preprocessor),\n",
    "    (\"model\", best_model)\n",
    "])\n",
    "\n",
    "# Save the combined pipeline \n",
    "joblib.dump(full_pipeline, \"models/final_model_(full_pipeline).pkl\")\n",
    "print(\"Saved full pipeline (preprocessing + model) to models/final_model_(full_pipeline).pkl\")\n"
   ]
  },
  {
   "cell_type": "code",
   "execution_count": null,
   "id": "0cea2b63",
   "metadata": {},
   "outputs": [],
   "source": []
  }
 ],
 "metadata": {
  "kernelspec": {
   "display_name": "base",
   "language": "python",
   "name": "python3"
  },
  "language_info": {
   "codemirror_mode": {
    "name": "ipython",
    "version": 3
   },
   "file_extension": ".py",
   "mimetype": "text/x-python",
   "name": "python",
   "nbconvert_exporter": "python",
   "pygments_lexer": "ipython3",
   "version": "3.12.4"
  }
 },
 "nbformat": 4,
 "nbformat_minor": 5
}
